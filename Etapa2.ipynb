{
 "cells": [
  {
   "cell_type": "code",
   "execution_count": 3,
   "metadata": {},
   "outputs": [],
   "source": [
    "import pandas as pd\n",
    "import polars as pl\n",
    "import time\n",
    "import pyarrow"
   ]
  },
  {
   "cell_type": "code",
   "execution_count": 4,
   "metadata": {},
   "outputs": [],
   "source": [
    "import fastparquet"
   ]
  },
  {
   "cell_type": "markdown",
   "metadata": {},
   "source": [
    "***Leitura dos arquivos feita separadamente para evitar erros de leitura e armazenamento***"
   ]
  },
  {
   "cell_type": "code",
   "execution_count": 3,
   "metadata": {},
   "outputs": [],
   "source": [
    "arquivo1 = pl.read_csv(\"C:\\\\Users\\\\Julia Nascimento\\\\Documents\\\\Python\\\\Etapa2\\\\202304_NovoBolsaFamilia.csv\", separator=\";\", encoding=\"latin-1\")"
   ]
  },
  {
   "cell_type": "code",
   "execution_count": 4,
   "metadata": {},
   "outputs": [],
   "source": [
    "arquivo2 = pl.read_csv(\"C:\\\\Users\\\\Julia Nascimento\\\\Documents\\\\Python\\\\Etapa2\\\\202305_NovoBolsaFamilia.csv\", separator=\";\", encoding=\"latin-1\")"
   ]
  },
  {
   "cell_type": "code",
   "execution_count": 5,
   "metadata": {},
   "outputs": [],
   "source": [
    "arquivo3 = pl.read_csv(\"C:\\\\Users\\\\Julia Nascimento\\\\Documents\\\\Python\\\\Etapa2\\\\202306_NovoBolsaFamilia.csv\", separator=\";\", encoding=\"latin-1\")"
   ]
  },
  {
   "cell_type": "code",
   "execution_count": null,
   "metadata": {},
   "outputs": [],
   "source": [
    "'''\n",
    "inicio_tempo = time.time()  # Marcação do tempo de execução\n",
    "\n",
    "# Concatenando os DataFrames com Polars | NÃO FOI UTILIZADO POIS A ANÁLISE FOI FEITA MÊS A MÊS\n",
    "segundotrimestre = pl.concat([arquivo1, arquivo2, arquivo3])\n",
    "\n",
    "# Exibindo as primeiras linhas do DataFrame concatenado\n",
    "display(segundotrimestre.head())\n",
    "\n",
    "display(\"Tempo de execução com Polars:\", time.time() - inicio_tempo, \"segundos\")\n",
    "\n",
    "'''"
   ]
  },
  {
   "cell_type": "code",
   "execution_count": 6,
   "metadata": {},
   "outputs": [],
   "source": [
    "\n",
    "arquivo1.write_parquet('abril.parquet')"
   ]
  },
  {
   "cell_type": "code",
   "execution_count": 7,
   "metadata": {},
   "outputs": [],
   "source": [
    "arquivo2.write_parquet('maio.parquet')"
   ]
  },
  {
   "cell_type": "code",
   "execution_count": 8,
   "metadata": {},
   "outputs": [],
   "source": [
    "arquivo3.write_parquet('junho.parquet')"
   ]
  },
  {
   "cell_type": "code",
   "execution_count": 17,
   "metadata": {},
   "outputs": [],
   "source": [
    "df_abril = pl.read_parquet('abril.parquet')\n",
    "df_maio = pl.read_parquet('maio.parquet')\n",
    "df_junho = pl.read_parquet('junho.parquet')"
   ]
  },
  {
   "cell_type": "code",
   "execution_count": 18,
   "metadata": {},
   "outputs": [
    {
     "data": {
      "text/html": [
       "<div><style>\n",
       ".dataframe > thead > tr,\n",
       ".dataframe > tbody > tr {\n",
       "  text-align: right;\n",
       "  white-space: pre-wrap;\n",
       "}\n",
       "</style>\n",
       "<small>shape: (5, 9)</small><table border=\"1\" class=\"dataframe\"><thead><tr><th>MÊS COMPETÊNCIA</th><th>MÊS REFERÊNCIA</th><th>UF</th><th>CÓDIGO MUNICÍPIO SIAFI</th><th>NOME MUNICÍPIO</th><th>CPF FAVORECIDO</th><th>NIS FAVORECIDO</th><th>NOME FAVORECIDO</th><th>VALOR PARCELA</th></tr><tr><td>i64</td><td>i64</td><td>str</td><td>i64</td><td>str</td><td>str</td><td>i64</td><td>str</td><td>str</td></tr></thead><tbody><tr><td>202304</td><td>202304</td><td>&quot;AC&quot;</td><td>643</td><td>&quot;ACRELANDIA&quot;</td><td>&quot;***.833.642-**&quot;</td><td>16167611395</td><td>&quot;ABIGAIL&nbsp;DAGMAR&nbsp;MACHADO&quot;</td><td>&quot;771,00&quot;</td></tr><tr><td>202304</td><td>202304</td><td>&quot;AC&quot;</td><td>643</td><td>&quot;ACRELANDIA&quot;</td><td>&quot;&quot;</td><td>16122034321</td><td>&quot;ABRAAO&nbsp;AMORA&nbsp;SALGUEIRO&quot;</td><td>&quot;600,00&quot;</td></tr><tr><td>202304</td><td>202304</td><td>&quot;AC&quot;</td><td>643</td><td>&quot;ACRELANDIA&quot;</td><td>&quot;***.355.042-**&quot;</td><td>16121660806</td><td>&quot;ABRAAO&nbsp;DA&nbsp;PIEDADE&nbsp;DO&nbsp;NASCIMENT…</td><td>&quot;750,00&quot;</td></tr><tr><td>202304</td><td>202304</td><td>&quot;AC&quot;</td><td>643</td><td>&quot;ACRELANDIA&quot;</td><td>&quot;&quot;</td><td>23655106404</td><td>&quot;ABRAAO&nbsp;SILVA&nbsp;CUNHA&quot;</td><td>&quot;600,00&quot;</td></tr><tr><td>202304</td><td>202304</td><td>&quot;AC&quot;</td><td>643</td><td>&quot;ACRELANDIA&quot;</td><td>&quot;***.050.782-**&quot;</td><td>16094443293</td><td>&quot;ABRAO&nbsp;KEMPNER&nbsp;RUMANZKI&quot;</td><td>&quot;600,00&quot;</td></tr></tbody></table></div>"
      ],
      "text/plain": [
       "shape: (5, 9)\n",
       "┌────────────┬────────────┬─────┬────────────┬───┬────────────┬────────────┬───────────┬───────────┐\n",
       "│ MÊS COMPET ┆ MÊS        ┆ UF  ┆ CÓDIGO     ┆ … ┆ CPF        ┆ NIS        ┆ NOME FAVO ┆ VALOR     │\n",
       "│ ÊNCIA      ┆ REFERÊNCIA ┆ --- ┆ MUNICÍPIO  ┆   ┆ FAVORECIDO ┆ FAVORECIDO ┆ RECIDO    ┆ PARCELA   │\n",
       "│ ---        ┆ ---        ┆ str ┆ SIAFI      ┆   ┆ ---        ┆ ---        ┆ ---       ┆ ---       │\n",
       "│ i64        ┆ i64        ┆     ┆ ---        ┆   ┆ str        ┆ i64        ┆ str       ┆ str       │\n",
       "│            ┆            ┆     ┆ i64        ┆   ┆            ┆            ┆           ┆           │\n",
       "╞════════════╪════════════╪═════╪════════════╪═══╪════════════╪════════════╪═══════════╪═══════════╡\n",
       "│ 202304     ┆ 202304     ┆ AC  ┆ 643        ┆ … ┆ ***.833.64 ┆ 1616761139 ┆ ABIGAIL   ┆ 771,00    │\n",
       "│            ┆            ┆     ┆            ┆   ┆ 2-**       ┆ 5          ┆ DAGMAR    ┆           │\n",
       "│            ┆            ┆     ┆            ┆   ┆            ┆            ┆ MACHADO   ┆           │\n",
       "│ 202304     ┆ 202304     ┆ AC  ┆ 643        ┆ … ┆            ┆ 1612203432 ┆ ABRAAO    ┆ 600,00    │\n",
       "│            ┆            ┆     ┆            ┆   ┆            ┆ 1          ┆ AMORA     ┆           │\n",
       "│            ┆            ┆     ┆            ┆   ┆            ┆            ┆ SALGUEIRO ┆           │\n",
       "│ 202304     ┆ 202304     ┆ AC  ┆ 643        ┆ … ┆ ***.355.04 ┆ 1612166080 ┆ ABRAAO DA ┆ 750,00    │\n",
       "│            ┆            ┆     ┆            ┆   ┆ 2-**       ┆ 6          ┆ PIEDADE   ┆           │\n",
       "│            ┆            ┆     ┆            ┆   ┆            ┆            ┆ DO NASCIM ┆           │\n",
       "│            ┆            ┆     ┆            ┆   ┆            ┆            ┆ ENT…      ┆           │\n",
       "│ 202304     ┆ 202304     ┆ AC  ┆ 643        ┆ … ┆            ┆ 2365510640 ┆ ABRAAO    ┆ 600,00    │\n",
       "│            ┆            ┆     ┆            ┆   ┆            ┆ 4          ┆ SILVA     ┆           │\n",
       "│            ┆            ┆     ┆            ┆   ┆            ┆            ┆ CUNHA     ┆           │\n",
       "│ 202304     ┆ 202304     ┆ AC  ┆ 643        ┆ … ┆ ***.050.78 ┆ 1609444329 ┆ ABRAO     ┆ 600,00    │\n",
       "│            ┆            ┆     ┆            ┆   ┆ 2-**       ┆ 3          ┆ KEMPNER   ┆           │\n",
       "│            ┆            ┆     ┆            ┆   ┆            ┆            ┆ RUMANZKI  ┆           │\n",
       "└────────────┴────────────┴─────┴────────────┴───┴────────────┴────────────┴───────────┴───────────┘"
      ]
     },
     "metadata": {},
     "output_type": "display_data"
    },
    {
     "name": "stdout",
     "output_type": "stream",
     "text": [
      "****************************************\n"
     ]
    },
    {
     "data": {
      "text/html": [
       "<div><style>\n",
       ".dataframe > thead > tr,\n",
       ".dataframe > tbody > tr {\n",
       "  text-align: right;\n",
       "  white-space: pre-wrap;\n",
       "}\n",
       "</style>\n",
       "<small>shape: (5, 9)</small><table border=\"1\" class=\"dataframe\"><thead><tr><th>MÊS COMPETÊNCIA</th><th>MÊS REFERÊNCIA</th><th>UF</th><th>CÓDIGO MUNICÍPIO SIAFI</th><th>NOME MUNICÍPIO</th><th>CPF FAVORECIDO</th><th>NIS FAVORECIDO</th><th>NOME FAVORECIDO</th><th>VALOR PARCELA</th></tr><tr><td>i64</td><td>i64</td><td>str</td><td>i64</td><td>str</td><td>str</td><td>i64</td><td>str</td><td>str</td></tr></thead><tbody><tr><td>202305</td><td>202303</td><td>&quot;AC&quot;</td><td>645</td><td>&quot;BUJARI&quot;</td><td>&quot;***.570.212-**&quot;</td><td>21206523966</td><td>&quot;EDERLANDIA&nbsp;CELESTINO&nbsp;DE&nbsp;ANDRAD…</td><td>&quot;400,00&quot;</td></tr><tr><td>202305</td><td>202303</td><td>&quot;AC&quot;</td><td>645</td><td>&quot;BUJARI&quot;</td><td>&quot;***.056.832-**&quot;</td><td>21242878442</td><td>&quot;ELISANGELA&nbsp;LIMA&nbsp;DE&nbsp;AGUIAR&quot;</td><td>&quot;390,00&quot;</td></tr><tr><td>202305</td><td>202303</td><td>&quot;AC&quot;</td><td>645</td><td>&quot;BUJARI&quot;</td><td>&quot;***.110.172-**&quot;</td><td>21023561583</td><td>&quot;ELISANGELA&nbsp;PEREIRA&nbsp;DA&nbsp;SILVA&quot;</td><td>&quot;400,00&quot;</td></tr><tr><td>202305</td><td>202303</td><td>&quot;AC&quot;</td><td>645</td><td>&quot;BUJARI&quot;</td><td>&quot;***.102.412-**&quot;</td><td>16307647591</td><td>&quot;FRANCISCA&nbsp;GERVANIA&nbsp;PINHO&nbsp;DE&nbsp;SO…</td><td>&quot;400,00&quot;</td></tr><tr><td>202305</td><td>202303</td><td>&quot;AC&quot;</td><td>645</td><td>&quot;BUJARI&quot;</td><td>&quot;***.931.272-**&quot;</td><td>12610227002</td><td>&quot;MARIA&nbsp;DE&nbsp;NAZARE&nbsp;LIMA&nbsp;DE&nbsp;SOUZA&quot;</td><td>&quot;400,00&quot;</td></tr></tbody></table></div>"
      ],
      "text/plain": [
       "shape: (5, 9)\n",
       "┌────────────┬────────────┬─────┬────────────┬───┬────────────┬────────────┬───────────┬───────────┐\n",
       "│ MÊS COMPET ┆ MÊS        ┆ UF  ┆ CÓDIGO     ┆ … ┆ CPF        ┆ NIS        ┆ NOME FAVO ┆ VALOR     │\n",
       "│ ÊNCIA      ┆ REFERÊNCIA ┆ --- ┆ MUNICÍPIO  ┆   ┆ FAVORECIDO ┆ FAVORECIDO ┆ RECIDO    ┆ PARCELA   │\n",
       "│ ---        ┆ ---        ┆ str ┆ SIAFI      ┆   ┆ ---        ┆ ---        ┆ ---       ┆ ---       │\n",
       "│ i64        ┆ i64        ┆     ┆ ---        ┆   ┆ str        ┆ i64        ┆ str       ┆ str       │\n",
       "│            ┆            ┆     ┆ i64        ┆   ┆            ┆            ┆           ┆           │\n",
       "╞════════════╪════════════╪═════╪════════════╪═══╪════════════╪════════════╪═══════════╪═══════════╡\n",
       "│ 202305     ┆ 202303     ┆ AC  ┆ 645        ┆ … ┆ ***.570.21 ┆ 2120652396 ┆ EDERLANDI ┆ 400,00    │\n",
       "│            ┆            ┆     ┆            ┆   ┆ 2-**       ┆ 6          ┆ A         ┆           │\n",
       "│            ┆            ┆     ┆            ┆   ┆            ┆            ┆ CELESTINO ┆           │\n",
       "│            ┆            ┆     ┆            ┆   ┆            ┆            ┆ DE        ┆           │\n",
       "│            ┆            ┆     ┆            ┆   ┆            ┆            ┆ ANDRAD…   ┆           │\n",
       "│ 202305     ┆ 202303     ┆ AC  ┆ 645        ┆ … ┆ ***.056.83 ┆ 2124287844 ┆ ELISANGEL ┆ 390,00    │\n",
       "│            ┆            ┆     ┆            ┆   ┆ 2-**       ┆ 2          ┆ A LIMA DE ┆           │\n",
       "│            ┆            ┆     ┆            ┆   ┆            ┆            ┆ AGUIAR    ┆           │\n",
       "│ 202305     ┆ 202303     ┆ AC  ┆ 645        ┆ … ┆ ***.110.17 ┆ 2102356158 ┆ ELISANGEL ┆ 400,00    │\n",
       "│            ┆            ┆     ┆            ┆   ┆ 2-**       ┆ 3          ┆ A PEREIRA ┆           │\n",
       "│            ┆            ┆     ┆            ┆   ┆            ┆            ┆ DA SILVA  ┆           │\n",
       "│ 202305     ┆ 202303     ┆ AC  ┆ 645        ┆ … ┆ ***.102.41 ┆ 1630764759 ┆ FRANCISCA ┆ 400,00    │\n",
       "│            ┆            ┆     ┆            ┆   ┆ 2-**       ┆ 1          ┆ GERVANIA  ┆           │\n",
       "│            ┆            ┆     ┆            ┆   ┆            ┆            ┆ PINHO DE  ┆           │\n",
       "│            ┆            ┆     ┆            ┆   ┆            ┆            ┆ SO…       ┆           │\n",
       "│ 202305     ┆ 202303     ┆ AC  ┆ 645        ┆ … ┆ ***.931.27 ┆ 1261022700 ┆ MARIA DE  ┆ 400,00    │\n",
       "│            ┆            ┆     ┆            ┆   ┆ 2-**       ┆ 2          ┆ NAZARE    ┆           │\n",
       "│            ┆            ┆     ┆            ┆   ┆            ┆            ┆ LIMA DE   ┆           │\n",
       "│            ┆            ┆     ┆            ┆   ┆            ┆            ┆ SOUZA     ┆           │\n",
       "└────────────┴────────────┴─────┴────────────┴───┴────────────┴────────────┴───────────┴───────────┘"
      ]
     },
     "metadata": {},
     "output_type": "display_data"
    },
    {
     "name": "stdout",
     "output_type": "stream",
     "text": [
      "****************************************\n"
     ]
    },
    {
     "data": {
      "text/html": [
       "<div><style>\n",
       ".dataframe > thead > tr,\n",
       ".dataframe > tbody > tr {\n",
       "  text-align: right;\n",
       "  white-space: pre-wrap;\n",
       "}\n",
       "</style>\n",
       "<small>shape: (5, 9)</small><table border=\"1\" class=\"dataframe\"><thead><tr><th>MÊS COMPETÊNCIA</th><th>MÊS REFERÊNCIA</th><th>UF</th><th>CÓDIGO MUNICÍPIO SIAFI</th><th>NOME MUNICÍPIO</th><th>CPF FAVORECIDO</th><th>NIS FAVORECIDO</th><th>NOME FAVORECIDO</th><th>VALOR PARCELA</th></tr><tr><td>i64</td><td>i64</td><td>str</td><td>i64</td><td>str</td><td>str</td><td>i64</td><td>str</td><td>str</td></tr></thead><tbody><tr><td>202306</td><td>202306</td><td>&quot;AC&quot;</td><td>643</td><td>&quot;ACRELANDIA&quot;</td><td>&quot;***.833.642-**&quot;</td><td>16167611395</td><td>&quot;ABIGAIL&nbsp;DAGMAR&nbsp;MACHADO&quot;</td><td>&quot;850,00&quot;</td></tr><tr><td>202306</td><td>202306</td><td>&quot;AC&quot;</td><td>643</td><td>&quot;ACRELANDIA&quot;</td><td>&quot;&quot;</td><td>16122034321</td><td>&quot;ABRAAO&nbsp;AMORA&nbsp;SALGUEIRO&quot;</td><td>&quot;600,00&quot;</td></tr><tr><td>202306</td><td>202306</td><td>&quot;AC&quot;</td><td>643</td><td>&quot;ACRELANDIA&quot;</td><td>&quot;***.355.042-**&quot;</td><td>16121660806</td><td>&quot;ABRAAO&nbsp;DA&nbsp;PIEDADE&nbsp;DO&nbsp;NASCIMENT…</td><td>&quot;750,00&quot;</td></tr><tr><td>202306</td><td>202306</td><td>&quot;AC&quot;</td><td>643</td><td>&quot;ACRELANDIA&quot;</td><td>&quot;***.050.782-**&quot;</td><td>16094443293</td><td>&quot;ABRAO&nbsp;KEMPNER&nbsp;RUMANZKI&quot;</td><td>&quot;600,00&quot;</td></tr><tr><td>202306</td><td>202306</td><td>&quot;AC&quot;</td><td>643</td><td>&quot;ACRELANDIA&quot;</td><td>&quot;***.455.212-**&quot;</td><td>16110238660</td><td>&quot;ACHILLA&nbsp;MARIA&nbsp;SOUZA&nbsp;ANDRADE&quot;</td><td>&quot;700,00&quot;</td></tr></tbody></table></div>"
      ],
      "text/plain": [
       "shape: (5, 9)\n",
       "┌────────────┬────────────┬─────┬────────────┬───┬────────────┬────────────┬───────────┬───────────┐\n",
       "│ MÊS COMPET ┆ MÊS        ┆ UF  ┆ CÓDIGO     ┆ … ┆ CPF        ┆ NIS        ┆ NOME FAVO ┆ VALOR     │\n",
       "│ ÊNCIA      ┆ REFERÊNCIA ┆ --- ┆ MUNICÍPIO  ┆   ┆ FAVORECIDO ┆ FAVORECIDO ┆ RECIDO    ┆ PARCELA   │\n",
       "│ ---        ┆ ---        ┆ str ┆ SIAFI      ┆   ┆ ---        ┆ ---        ┆ ---       ┆ ---       │\n",
       "│ i64        ┆ i64        ┆     ┆ ---        ┆   ┆ str        ┆ i64        ┆ str       ┆ str       │\n",
       "│            ┆            ┆     ┆ i64        ┆   ┆            ┆            ┆           ┆           │\n",
       "╞════════════╪════════════╪═════╪════════════╪═══╪════════════╪════════════╪═══════════╪═══════════╡\n",
       "│ 202306     ┆ 202306     ┆ AC  ┆ 643        ┆ … ┆ ***.833.64 ┆ 1616761139 ┆ ABIGAIL   ┆ 850,00    │\n",
       "│            ┆            ┆     ┆            ┆   ┆ 2-**       ┆ 5          ┆ DAGMAR    ┆           │\n",
       "│            ┆            ┆     ┆            ┆   ┆            ┆            ┆ MACHADO   ┆           │\n",
       "│ 202306     ┆ 202306     ┆ AC  ┆ 643        ┆ … ┆            ┆ 1612203432 ┆ ABRAAO    ┆ 600,00    │\n",
       "│            ┆            ┆     ┆            ┆   ┆            ┆ 1          ┆ AMORA     ┆           │\n",
       "│            ┆            ┆     ┆            ┆   ┆            ┆            ┆ SALGUEIRO ┆           │\n",
       "│ 202306     ┆ 202306     ┆ AC  ┆ 643        ┆ … ┆ ***.355.04 ┆ 1612166080 ┆ ABRAAO DA ┆ 750,00    │\n",
       "│            ┆            ┆     ┆            ┆   ┆ 2-**       ┆ 6          ┆ PIEDADE   ┆           │\n",
       "│            ┆            ┆     ┆            ┆   ┆            ┆            ┆ DO NASCIM ┆           │\n",
       "│            ┆            ┆     ┆            ┆   ┆            ┆            ┆ ENT…      ┆           │\n",
       "│ 202306     ┆ 202306     ┆ AC  ┆ 643        ┆ … ┆ ***.050.78 ┆ 1609444329 ┆ ABRAO     ┆ 600,00    │\n",
       "│            ┆            ┆     ┆            ┆   ┆ 2-**       ┆ 3          ┆ KEMPNER   ┆           │\n",
       "│            ┆            ┆     ┆            ┆   ┆            ┆            ┆ RUMANZKI  ┆           │\n",
       "│ 202306     ┆ 202306     ┆ AC  ┆ 643        ┆ … ┆ ***.455.21 ┆ 1611023866 ┆ ACHILLA   ┆ 700,00    │\n",
       "│            ┆            ┆     ┆            ┆   ┆ 2-**       ┆ 0          ┆ MARIA     ┆           │\n",
       "│            ┆            ┆     ┆            ┆   ┆            ┆            ┆ SOUZA     ┆           │\n",
       "│            ┆            ┆     ┆            ┆   ┆            ┆            ┆ ANDRADE   ┆           │\n",
       "└────────────┴────────────┴─────┴────────────┴───┴────────────┴────────────┴───────────┴───────────┘"
      ]
     },
     "metadata": {},
     "output_type": "display_data"
    }
   ],
   "source": [
    "display(df_abril.head())\n",
    "print(\"****************************************\")\n",
    "display(df_maio.head())\n",
    "print(\"****************************************\")\n",
    "display(df_junho.head())"
   ]
  },
  {
   "cell_type": "markdown",
   "metadata": {},
   "source": [
    "![panda](https://www.gov.br/secom/pt-br/assuntos/noticias/2023/12/2023-e-o-ano-com-maior-media-de-beneficiarios-de-valor-medio-e-de-investimento-federal-na-historia-do-bolsa-familia/09122023_infografico_valor_medio.png)"
   ]
  },
  {
   "cell_type": "markdown",
   "metadata": {},
   "source": [
    "Abril"
   ]
  },
  {
   "cell_type": "code",
   "execution_count": 19,
   "metadata": {},
   "outputs": [
    {
     "name": "stdout",
     "output_type": "stream",
     "text": [
      "shape: (10,)\n",
      "Series: 'VALOR PARCELA' [str]\n",
      "[\n",
      "\t\"771,00\"\n",
      "\t\"600,00\"\n",
      "\t\"750,00\"\n",
      "\t\"600,00\"\n",
      "\t\"600,00\"\n",
      "\t\"750,00\"\n",
      "\t\"600,00\"\n",
      "\t\"600,00\"\n",
      "\t\"600,00\"\n",
      "\t\"600,00\"\n",
      "]\n",
      "String\n"
     ]
    }
   ],
   "source": [
    "# Primeiros valores e o tipo da coluna\n",
    "print(df_abril['VALOR PARCELA'].head())\n",
    "print(df_abril['VALOR PARCELA'].dtype)\n"
   ]
  },
  {
   "cell_type": "code",
   "execution_count": 20,
   "metadata": {},
   "outputs": [],
   "source": [
    "# Substituir vírgulas por pontos e converter para float\n",
    "df_abril = df_abril.with_columns(\n",
    "    df_abril['VALOR PARCELA']\n",
    "    .str.replace(',', '.') \n",
    "    .cast(float)\n",
    ")"
   ]
  },
  {
   "cell_type": "code",
   "execution_count": 21,
   "metadata": {},
   "outputs": [
    {
     "name": "stdout",
     "output_type": "stream",
     "text": [
      "shape: (10,)\n",
      "Series: 'VALOR PARCELA' [f64]\n",
      "[\n",
      "\t771.0\n",
      "\t600.0\n",
      "\t750.0\n",
      "\t600.0\n",
      "\t600.0\n",
      "\t750.0\n",
      "\t600.0\n",
      "\t600.0\n",
      "\t600.0\n",
      "\t600.0\n",
      "]\n"
     ]
    }
   ],
   "source": [
    "# Valores após a conversão\n",
    "print(df_abril['VALOR PARCELA'].head())"
   ]
  },
  {
   "cell_type": "code",
   "execution_count": 22,
   "metadata": {},
   "outputs": [
    {
     "name": "stdout",
     "output_type": "stream",
     "text": [
      "====================================================================================================\n",
      "                                Resumo dos Resultados - Mês de Abril                                \n",
      "====================================================================================================\n",
      "Total de registros:                               20.092.338\n",
      "Registros inválidos:                                       0\n",
      "----------------------------------------------------------------------------------------------------\n",
      "Total Valor Parcela do mês de Abril:          R$ 12.938.491.068,00\n",
      "Média Valor Parcela:                               R$ 643,95\n",
      "====================================================================================================\n"
     ]
    }
   ],
   "source": [
    "# Contar registros inválidos\n",
    "qtd_invalidos = df_abril['VALOR PARCELA'].is_null().sum()\n",
    "\n",
    "# Total de registros\n",
    "total_registros = df_abril.height\n",
    "\n",
    "# Total e média\n",
    "total = df_abril['VALOR PARCELA'].sum()\n",
    "media_abril = df_abril['VALOR PARCELA'].mean()\n",
    "\n",
    "# Exibir os resultados\n",
    "print(\"=\"*100)\n",
    "print(\"Resumo dos Resultados - Mês de Abril\".center(100))\n",
    "print(\"=\"*100)\n",
    "print(f\"Total de registros:\".ljust(30) + f\"{total_registros:,}\".replace(\",\", \"_\").replace(\".\", \",\").replace(\"_\", \".\").rjust(30))\n",
    "print(f\"Registros inválidos:\".ljust(30) + f\"{qtd_invalidos:,}\".replace(\",\", \"_\").replace(\".\", \",\").replace(\"_\", \".\").rjust(30))\n",
    "print(\"-\"*100)\n",
    "print(f\"Total Valor Parcela do mês de Abril:\".ljust(30) + f\" R$ {total:,.2f}\".replace(\",\", \"_\").replace(\".\", \",\").replace(\"_\", \".\").rjust(30))\n",
    "print(f\"Média Valor Parcela:\".ljust(30) + f\"R$ {media_abril:.2f}\".replace(\".\", \",\").rjust(30))\n",
    "print(\"=\"*100)"
   ]
  },
  {
   "cell_type": "markdown",
   "metadata": {},
   "source": [
    "***Segundos os registros encontrados em: https://agenciagov.ebc.com.br/noticias/202312/2023-e-o-ano-com-maior-media-de-beneficiarios-de-valor-medio-e-de-investimento-federal-na-historia-do-bolsa-familia, que demonstram a evolução do valor médio do bolsa família dos meses de 2023, o valor médio para o mês de abr/2023 foi de R$ 670,00 reais, após uma análise nos dados desse período, verificamos que existe uma diferença de R$ 26,05.\n",
    "Levando em consideração de que a notícia pode ter arredondado os valores nossa conclusão é de que a notícia está parcialmente correta em relação aos dados fornecidos.***"
   ]
  },
  {
   "cell_type": "markdown",
   "metadata": {},
   "source": [
    "Maio"
   ]
  },
  {
   "cell_type": "code",
   "execution_count": 23,
   "metadata": {},
   "outputs": [
    {
     "name": "stdout",
     "output_type": "stream",
     "text": [
      "shape: (10,)\n",
      "Series: 'VALOR PARCELA' [str]\n",
      "[\n",
      "\t\"400,00\"\n",
      "\t\"390,00\"\n",
      "\t\"400,00\"\n",
      "\t\"400,00\"\n",
      "\t\"400,00\"\n",
      "\t\"450,00\"\n",
      "\t\"400,00\"\n",
      "\t\"400,00\"\n",
      "\t\"400,00\"\n",
      "\t\"400,00\"\n",
      "]\n",
      "String\n"
     ]
    }
   ],
   "source": [
    "# Primeiros valores e o tipo da coluna\n",
    "print(df_maio['VALOR PARCELA'].head())\n",
    "print(df_maio['VALOR PARCELA'].dtype)"
   ]
  },
  {
   "cell_type": "code",
   "execution_count": 24,
   "metadata": {},
   "outputs": [],
   "source": [
    "# Substituir vírgulas por pontos e converter para float\n",
    "df_maio = df_maio.with_columns(\n",
    "    df_maio['VALOR PARCELA']\n",
    "    .str.replace(',', '.')\n",
    "    .cast(float)\n",
    ")"
   ]
  },
  {
   "cell_type": "code",
   "execution_count": 25,
   "metadata": {},
   "outputs": [
    {
     "name": "stdout",
     "output_type": "stream",
     "text": [
      "shape: (10,)\n",
      "Series: 'VALOR PARCELA' [f64]\n",
      "[\n",
      "\t400.0\n",
      "\t390.0\n",
      "\t400.0\n",
      "\t400.0\n",
      "\t400.0\n",
      "\t450.0\n",
      "\t400.0\n",
      "\t400.0\n",
      "\t400.0\n",
      "\t400.0\n",
      "]\n"
     ]
    }
   ],
   "source": [
    "# Valores após a conversão\n",
    "print(df_maio['VALOR PARCELA'].head())"
   ]
  },
  {
   "cell_type": "code",
   "execution_count": 26,
   "metadata": {},
   "outputs": [
    {
     "name": "stdout",
     "output_type": "stream",
     "text": [
      "====================================================================================================\n",
      "                                Resumo dos Resultados - Mês de Maio                                 \n",
      "====================================================================================================\n",
      "Total de registros:                               20.356.776\n",
      "Registros inválidos:                                       0\n",
      "----------------------------------------------------------------------------------------------------\n",
      "Total Valor Parcela do mês de Maio:          R$ 13.098.360.456,00\n",
      "Média Valor Parcela:                               R$ 643,44\n",
      "====================================================================================================\n"
     ]
    }
   ],
   "source": [
    "# Contar registros inválidos\n",
    "qtd_invalidos = df_maio['VALOR PARCELA'].is_null().sum()\n",
    "\n",
    "# Total de registros\n",
    "total_registros = df_maio.height\n",
    "\n",
    "# Total e média\n",
    "total = df_maio['VALOR PARCELA'].sum()\n",
    "media_maio = df_maio['VALOR PARCELA'].mean()\n",
    "\n",
    "\n",
    "# Exibir os resultados\n",
    "print(\"=\"*100)\n",
    "print(\"Resumo dos Resultados - Mês de Maio\".center(100))\n",
    "print(\"=\"*100)\n",
    "print(f\"Total de registros:\".ljust(30) + f\"{total_registros:,}\".replace(\",\", \"_\").replace(\".\", \",\").replace(\"_\", \".\").rjust(30))\n",
    "print(f\"Registros inválidos:\".ljust(30) + f\"{qtd_invalidos:,}\".replace(\",\", \"_\").replace(\".\", \",\").replace(\"_\", \".\").rjust(30))\n",
    "print(\"-\"*100)\n",
    "print(f\"Total Valor Parcela do mês de Maio:\".ljust(30) + f\" R$ {total:,.2f}\".replace(\",\", \"_\").replace(\".\", \",\").replace(\"_\", \".\").rjust(30))\n",
    "print(f\"Média Valor Parcela:\".ljust(30) + f\"R$ {media_maio:.2f}\".replace(\".\", \",\").rjust(30))\n",
    "print(\"=\"*100)"
   ]
  },
  {
   "cell_type": "markdown",
   "metadata": {},
   "source": [
    "***Segundos os registros encontrados em: https://agenciagov.ebc.com.br/noticias/202312/2023-e-o-ano-com-maior-media-de-beneficiarios-de-valor-medio-e-de-investimento-federal-na-historia-do-bolsa-familia, que demonstram a evolução do valor médio do bolsa família dos meses de 2023, o valor médio para o mês de maio/2023 foi de R$ 672,00 reais, após uma análise nos dados desse período, verificamos que existe uma diferença de R$ 28,56.\n",
    "Levando em consideração de que a notícia pode ter arredondado os valores nossa conclusão é de que a notícia está parcialmente correta em relação aos dados fornecidos.***"
   ]
  },
  {
   "cell_type": "markdown",
   "metadata": {},
   "source": [
    "#Junho"
   ]
  },
  {
   "cell_type": "code",
   "execution_count": 27,
   "metadata": {},
   "outputs": [
    {
     "name": "stdout",
     "output_type": "stream",
     "text": [
      "shape: (10,)\n",
      "Series: 'VALOR PARCELA' [str]\n",
      "[\n",
      "\t\"850,00\"\n",
      "\t\"600,00\"\n",
      "\t\"750,00\"\n",
      "\t\"600,00\"\n",
      "\t\"700,00\"\n",
      "\t\"650,00\"\n",
      "\t\"600,00\"\n",
      "\t\"600,00\"\n",
      "\t\"600,00\"\n",
      "\t\"650,00\"\n",
      "]\n",
      "String\n"
     ]
    }
   ],
   "source": [
    "# Primeiros valores e o tipo da coluna\n",
    "print(df_junho['VALOR PARCELA'].head())\n",
    "print(df_junho['VALOR PARCELA'].dtype)\n"
   ]
  },
  {
   "cell_type": "code",
   "execution_count": 28,
   "metadata": {},
   "outputs": [],
   "source": [
    "# Substituir vírgulas por pontos e converter para float\n",
    "df_junho = df_junho.with_columns(\n",
    "    df_junho['VALOR PARCELA']\n",
    "    .str.replace(',', '.')  \n",
    "    .cast(float)\n",
    ")"
   ]
  },
  {
   "cell_type": "code",
   "execution_count": 29,
   "metadata": {},
   "outputs": [
    {
     "name": "stdout",
     "output_type": "stream",
     "text": [
      "shape: (10,)\n",
      "Series: 'VALOR PARCELA' [f64]\n",
      "[\n",
      "\t850.0\n",
      "\t600.0\n",
      "\t750.0\n",
      "\t600.0\n",
      "\t700.0\n",
      "\t650.0\n",
      "\t600.0\n",
      "\t600.0\n",
      "\t600.0\n",
      "\t650.0\n",
      "]\n"
     ]
    }
   ],
   "source": [
    "# Valores após a conversão\n",
    "print(df_junho['VALOR PARCELA'].head())"
   ]
  },
  {
   "cell_type": "code",
   "execution_count": 30,
   "metadata": {},
   "outputs": [
    {
     "name": "stdout",
     "output_type": "stream",
     "text": [
      "====================================================================================================\n",
      "                                Resumo dos Resultados - Mês de Junho                                \n",
      "====================================================================================================\n",
      "Total de registros:                               20.699.443\n",
      "Registros inválidos:                                       0\n",
      "----------------------------------------------------------------------------------------------------\n",
      "Total Valor Parcela do mês de Junho:          R$ 14.115.738.127,00\n",
      "Média Valor Parcela:                               R$ 681,94\n",
      "====================================================================================================\n"
     ]
    }
   ],
   "source": [
    "# Contar registros inválidos\n",
    "qtd_invalidos = df_junho['VALOR PARCELA'].is_null().sum()\n",
    "\n",
    "# Total de registros\n",
    "total_registros = df_junho.height\n",
    "\n",
    "# Total e média\n",
    "total = df_junho['VALOR PARCELA'].sum()\n",
    "media_junho = df_junho['VALOR PARCELA'].mean()\n",
    "\n",
    "\n",
    "# Exibir os resultados de forma mais organizada com o padrão brasileiro\n",
    "print(\"=\"*100)\n",
    "print(\"Resumo dos Resultados - Mês de Junho\".center(100))\n",
    "print(\"=\"*100)\n",
    "print(f\"Total de registros:\".ljust(30) + f\"{total_registros:,}\".replace(\",\", \"_\").replace(\".\", \",\").replace(\"_\", \".\").rjust(30))\n",
    "print(f\"Registros inválidos:\".ljust(30) + f\"{qtd_invalidos:,}\".replace(\",\", \"_\").replace(\".\", \",\").replace(\"_\", \".\").rjust(30))\n",
    "print(\"-\"*100)\n",
    "print(f\"Total Valor Parcela do mês de Junho:\".ljust(30) + f\" R$ {total:,.2f}\".replace(\",\", \"_\").replace(\".\", \",\").replace(\"_\", \".\").rjust(30))\n",
    "print(f\"Média Valor Parcela:\".ljust(30) + f\"R$ {media_junho:.2f}\".replace(\".\", \",\").rjust(30))\n",
    "print(\"=\"*100)"
   ]
  },
  {
   "cell_type": "markdown",
   "metadata": {},
   "source": [
    "***Segundos os registros encontrados em: https://agenciagov.ebc.com.br/noticias/202312/2023-e-o-ano-com-maior-media-de-beneficiarios-de-valor-medio-e-de-investimento-federal-na-historia-do-bolsa-familia, que demonstram a evolução do valor médio do bolsa família dos meses de 2023, o valor médio para o mês de jun/2023 foi de R$ 705,00 reais, após uma análise nos dados desse período, verificamos que existe uma diferença de R$ 23,06.\n",
    "Levando em consideração de que a notícia pode ter arredondado os valores nossa conclusão é de que a notícia está parcialmente correta em relação aos dados fornecidos.***"
   ]
  },
  {
   "cell_type": "markdown",
   "metadata": {},
   "source": [
    "*Correlação*"
   ]
  },
  {
   "cell_type": "code",
   "execution_count": 31,
   "metadata": {},
   "outputs": [],
   "source": [
    "médias = {\"Abr = 670\", \"Mai: 672,00\", \"Jun: 705,00\"}"
   ]
  },
  {
   "cell_type": "code",
   "execution_count": 32,
   "metadata": {},
   "outputs": [
    {
     "name": "stdout",
     "output_type": "stream",
     "text": [
      "Correlação entre as médias fornecidas e as médias das variáveis: 0.9980484372000588\n"
     ]
    }
   ],
   "source": [
    "import re\n",
    "import numpy as np\n",
    "\n",
    "# Strings das médias fornecidas\n",
    "medias_strings = [\"Abr = 670\", \"Mai: 672,00\", \"Jun: 705,00\"]\n",
    "\n",
    "# Função para extrair valores numéricos das strings\n",
    "def extrair_media(texto):\n",
    "    # Remover tudo que não seja número ou vírgula/ponto\n",
    "    numero = re.sub(r'[^\\d,]', '', texto)\n",
    "    # Substituir vírgula por ponto para garantir que seja interpretado como número float\n",
    "    return float(numero.replace(',', '.'))\n",
    "\n",
    "# Extração das médiaS\n",
    "medias_extraidas = [extrair_media(m) for m in medias_strings]\n",
    "\n",
    "# Armazenando as médias das variáveis em uma lista\n",
    "medias_variaveis = [media_abril, media_maio, media_junho]\n",
    "\n",
    "# Calculando a correlação entre as médias extraídas das strings e as variáveis\n",
    "correlacao = np.corrcoef(medias_extraidas, medias_variaveis)[0, 1]\n",
    "\n",
    "# Exibindo o resultado\n",
    "print(f\"Correlação entre as médias fornecidas e as médias das variáveis: {correlacao}\")"
   ]
  },
  {
   "cell_type": "code",
   "execution_count": 33,
   "metadata": {},
   "outputs": [
    {
     "data": {
      "image/png": "[encoded data removed]",
      "text/plain": [
       "<Figure size 800x600 with 1 Axes>"
      ]
     },
     "metadata": {},
     "output_type": "display_data"
    }
   ],
   "source": [
    "import matplotlib as plt\n",
    "#import re\n",
    "import matplotlib.pyplot as plt\n",
    "\n",
    "# Função para extrair valores numéricos das strings\n",
    "def extrair_media(texto):\n",
    "    # Remover tudo que não seja número ou vírgula/ponto\n",
    "    numero = re.sub(r'[^\\d,]', '', texto)\n",
    "    # Substituir vírgula por ponto para garantir que seja interpretado como número float\n",
    "    return float(numero.replace(',', '.'))\n",
    "\n",
    "# Extração das médias diretamente das strings\n",
    "medias_extraidas = [extrair_media(m) for m in medias_strings]\n",
    "\n",
    "# Armazenando as médias das variáveis em uma lista\n",
    "medias_variaveis = [media_abril, media_maio, media_junho]\n",
    "\n",
    "# Cores para cada mês\n",
    "cores = ['blue', 'green', 'red']\n",
    "# Labels para cada mês\n",
    "meses = ['Abril', 'Maio', 'Junho']\n",
    "# Criando o gráfico de dispersão\n",
    "plt.figure(figsize=(8, 6))\n",
    "# Plotando os pontos para cada mês\n",
    "for i in range(3):\n",
    "    plt.scatter(medias_extraidas[i], medias_variaveis[i], color=cores[i], label=f'{meses[i]}')\n",
    "\n",
    "# Adicionando rótulos e título\n",
    "plt.xlabel('Média Extraída das Strings')\n",
    "plt.ylabel('Média das Variáveis')\n",
    "plt.title('Correlação entre as Médias Extraídas e Variáveis')\n",
    "\n",
    "# Adicionando legenda\n",
    "plt.legend()\n",
    "# Exibindo o gráfico\n",
    "plt.grid(True)\n",
    "plt.show()"
   ]
  }
 ],
 "metadata": {
  "kernelspec": {
   "display_name": "Python 3",
   "language": "python",
   "name": "python3"
  },
  "language_info": {
   "codemirror_mode": {
    "name": "ipython",
    "version": 3
   },
   "file_extension": ".py",
   "mimetype": "text/x-python",
   "name": "python",
   "nbconvert_exporter": "python",
   "pygments_lexer": "ipython3",
   "version": "3.12.2"
  }
 },
 "nbformat": 4,
 "nbformat_minor": 2
}
